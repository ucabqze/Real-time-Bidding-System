{
 "cells": [
  {
   "cell_type": "code",
   "execution_count": 2,
   "metadata": {},
   "outputs": [],
   "source": [
    "import numpy as np\n",
    "import pandas as pd\n",
    "from sklearn.ensemble import RandomForestClassifier\n",
    "from xgboost import XGBClassifier\n",
    "\n",
    "from sklearn.metrics import accuracy_score\n",
    "from sklearn.metrics import confusion_matrix\n",
    "from sklearn.metrics import roc_auc_score\n",
    "from sklearn.metrics import make_scorer\n",
    "from sklearn.metrics import roc_curve\n",
    "from sklearn.metrics import auc\n",
    "import random\n",
    "import matplotlib.pyplot as plt"
   ]
  },
  {
   "cell_type": "code",
   "execution_count": 3,
   "metadata": {},
   "outputs": [],
   "source": [
    "#load data\n",
    "train = pd.read_csv('new_train.csv')\n",
    "#validation = pd.read_csv('validation.csv')\n",
    "new_test = pd.read_csv('new_test.csv')"
   ]
  },
  {
   "cell_type": "code",
   "execution_count": 4,
   "metadata": {},
   "outputs": [],
   "source": [
    "test = pd.read_csv('test.csv')"
   ]
  },
  {
   "cell_type": "code",
   "execution_count": 5,
   "metadata": {},
   "outputs": [
    {
     "data": {
      "text/html": [
       "<div>\n",
       "<style scoped>\n",
       "    .dataframe tbody tr th:only-of-type {\n",
       "        vertical-align: middle;\n",
       "    }\n",
       "\n",
       "    .dataframe tbody tr th {\n",
       "        vertical-align: top;\n",
       "    }\n",
       "\n",
       "    .dataframe thead th {\n",
       "        text-align: right;\n",
       "    }\n",
       "</style>\n",
       "<table border=\"1\" class=\"dataframe\">\n",
       "  <thead>\n",
       "    <tr style=\"text-align: right;\">\n",
       "      <th></th>\n",
       "      <th>weekday</th>\n",
       "      <th>hour</th>\n",
       "      <th>bidid</th>\n",
       "      <th>userid</th>\n",
       "      <th>useragent</th>\n",
       "      <th>IP</th>\n",
       "      <th>region</th>\n",
       "      <th>city</th>\n",
       "      <th>adexchange</th>\n",
       "      <th>domain</th>\n",
       "      <th>...</th>\n",
       "      <th>slotid</th>\n",
       "      <th>slotwidth</th>\n",
       "      <th>slotheight</th>\n",
       "      <th>slotvisibility</th>\n",
       "      <th>slotformat</th>\n",
       "      <th>slotprice</th>\n",
       "      <th>creative</th>\n",
       "      <th>keypage</th>\n",
       "      <th>advertiser</th>\n",
       "      <th>usertag</th>\n",
       "    </tr>\n",
       "  </thead>\n",
       "  <tbody>\n",
       "    <tr>\n",
       "      <th>0</th>\n",
       "      <td>0</td>\n",
       "      <td>12</td>\n",
       "      <td>366c563de7d90feb9d4dab53e795a93fb3157387</td>\n",
       "      <td>75045dd2f2136c93fe55fe6c446ec1527ed8f0bb</td>\n",
       "      <td>windows_chrome</td>\n",
       "      <td>27.197.36.*</td>\n",
       "      <td>146</td>\n",
       "      <td>159</td>\n",
       "      <td>3.0</td>\n",
       "      <td>DDTSQuf0MTTNaqKIvMpENpn</td>\n",
       "      <td>...</td>\n",
       "      <td>Astro_F_Rectangle</td>\n",
       "      <td>300</td>\n",
       "      <td>250</td>\n",
       "      <td>0</td>\n",
       "      <td>0</td>\n",
       "      <td>10</td>\n",
       "      <td>00fccc64a1ee2809348509b7ac2a97a5</td>\n",
       "      <td>b2e35064f3549d447edbbdfb1f707c8c</td>\n",
       "      <td>3427</td>\n",
       "      <td>10024,10077,10075,10063,10031,10102,10006,1304...</td>\n",
       "    </tr>\n",
       "    <tr>\n",
       "      <th>1</th>\n",
       "      <td>3</td>\n",
       "      <td>14</td>\n",
       "      <td>29167d4caa719788b5a342dbaa25151d53121f80</td>\n",
       "      <td>11279eb1f8f7a88f877db911673522b6ff202aa7</td>\n",
       "      <td>android_safari</td>\n",
       "      <td>124.126.227.*</td>\n",
       "      <td>1</td>\n",
       "      <td>1</td>\n",
       "      <td>NaN</td>\n",
       "      <td>d63d96468f66986d5a8eb5225ad0b6f0</td>\n",
       "      <td>...</td>\n",
       "      <td>2745306850</td>\n",
       "      <td>320</td>\n",
       "      <td>50</td>\n",
       "      <td>FirstView</td>\n",
       "      <td>Na</td>\n",
       "      <td>5</td>\n",
       "      <td>11908</td>\n",
       "      <td>NaN</td>\n",
       "      <td>2997</td>\n",
       "      <td>NaN</td>\n",
       "    </tr>\n",
       "    <tr>\n",
       "      <th>2</th>\n",
       "      <td>5</td>\n",
       "      <td>19</td>\n",
       "      <td>ff8bc3f4d44a3ea60c5f3a3a8fbe7cd98fb2966e</td>\n",
       "      <td>4771a819a3f5b86776d8a9456f4f2506578f78d8</td>\n",
       "      <td>windows_ie</td>\n",
       "      <td>116.116.104.*</td>\n",
       "      <td>27</td>\n",
       "      <td>34</td>\n",
       "      <td>1.0</td>\n",
       "      <td>trqRTJkrBoq7JsNr5SqfNX</td>\n",
       "      <td>...</td>\n",
       "      <td>mm_34022157_3445226_11175100</td>\n",
       "      <td>336</td>\n",
       "      <td>280</td>\n",
       "      <td>2</td>\n",
       "      <td>1</td>\n",
       "      <td>0</td>\n",
       "      <td>77819d3e0b3467fe5c7b16d68ad923a1</td>\n",
       "      <td>bebefa5efe83beee17a3d245e7c5085b</td>\n",
       "      <td>1458</td>\n",
       "      <td>13866,10006,10024,10059,10048,10063,10067,1008...</td>\n",
       "    </tr>\n",
       "    <tr>\n",
       "      <th>3</th>\n",
       "      <td>0</td>\n",
       "      <td>21</td>\n",
       "      <td>844c2da00d45315f20b748ec131c26ee99a7cbc7</td>\n",
       "      <td>5360671379f3204afa9cc0edd8fd2e2096cb09eb</td>\n",
       "      <td>windows_ie</td>\n",
       "      <td>115.46.145.*</td>\n",
       "      <td>238</td>\n",
       "      <td>245</td>\n",
       "      <td>4.0</td>\n",
       "      <td>6d27caf5a202ec085f80af7163ef7cb0</td>\n",
       "      <td>...</td>\n",
       "      <td>210842</td>\n",
       "      <td>960</td>\n",
       "      <td>90</td>\n",
       "      <td>FirstView</td>\n",
       "      <td>Na</td>\n",
       "      <td>30</td>\n",
       "      <td>10717</td>\n",
       "      <td>NaN</td>\n",
       "      <td>2821</td>\n",
       "      <td>10075,13042,10006,10110,13776,10031,10063</td>\n",
       "    </tr>\n",
       "    <tr>\n",
       "      <th>4</th>\n",
       "      <td>2</td>\n",
       "      <td>20</td>\n",
       "      <td>c6017f0ad0c44d7d0c9b62583ea863f28941c0ca</td>\n",
       "      <td>d791b5f6306b9d299f81daa5448ced7e5bfa010f</td>\n",
       "      <td>windows_ie</td>\n",
       "      <td>221.199.203.*</td>\n",
       "      <td>27</td>\n",
       "      <td>35</td>\n",
       "      <td>3.0</td>\n",
       "      <td>3FKElpuEMusyJqKbuKz</td>\n",
       "      <td>...</td>\n",
       "      <td>Fashion_F_Rectangle</td>\n",
       "      <td>300</td>\n",
       "      <td>250</td>\n",
       "      <td>0</td>\n",
       "      <td>0</td>\n",
       "      <td>50</td>\n",
       "      <td>44966cc8da1ed40c95d59e863c8c75f0</td>\n",
       "      <td>43f4a37f42a7c5e6219e2601b26c6976</td>\n",
       "      <td>3386</td>\n",
       "      <td>10063</td>\n",
       "    </tr>\n",
       "  </tbody>\n",
       "</table>\n",
       "<p>5 rows × 22 columns</p>\n",
       "</div>"
      ],
      "text/plain": [
       "   weekday  hour                                     bidid  \\\n",
       "0        0    12  366c563de7d90feb9d4dab53e795a93fb3157387   \n",
       "1        3    14  29167d4caa719788b5a342dbaa25151d53121f80   \n",
       "2        5    19  ff8bc3f4d44a3ea60c5f3a3a8fbe7cd98fb2966e   \n",
       "3        0    21  844c2da00d45315f20b748ec131c26ee99a7cbc7   \n",
       "4        2    20  c6017f0ad0c44d7d0c9b62583ea863f28941c0ca   \n",
       "\n",
       "                                     userid       useragent             IP  \\\n",
       "0  75045dd2f2136c93fe55fe6c446ec1527ed8f0bb  windows_chrome    27.197.36.*   \n",
       "1  11279eb1f8f7a88f877db911673522b6ff202aa7  android_safari  124.126.227.*   \n",
       "2  4771a819a3f5b86776d8a9456f4f2506578f78d8      windows_ie  116.116.104.*   \n",
       "3  5360671379f3204afa9cc0edd8fd2e2096cb09eb      windows_ie   115.46.145.*   \n",
       "4  d791b5f6306b9d299f81daa5448ced7e5bfa010f      windows_ie  221.199.203.*   \n",
       "\n",
       "   region  city  adexchange                            domain  \\\n",
       "0     146   159         3.0           DDTSQuf0MTTNaqKIvMpENpn   \n",
       "1       1     1         NaN  d63d96468f66986d5a8eb5225ad0b6f0   \n",
       "2      27    34         1.0            trqRTJkrBoq7JsNr5SqfNX   \n",
       "3     238   245         4.0  6d27caf5a202ec085f80af7163ef7cb0   \n",
       "4      27    35         3.0               3FKElpuEMusyJqKbuKz   \n",
       "\n",
       "                         ...                          \\\n",
       "0                        ...                           \n",
       "1                        ...                           \n",
       "2                        ...                           \n",
       "3                        ...                           \n",
       "4                        ...                           \n",
       "\n",
       "                         slotid  slotwidth slotheight  slotvisibility  \\\n",
       "0             Astro_F_Rectangle        300        250               0   \n",
       "1                    2745306850        320         50       FirstView   \n",
       "2  mm_34022157_3445226_11175100        336        280               2   \n",
       "3                        210842        960         90       FirstView   \n",
       "4           Fashion_F_Rectangle        300        250               0   \n",
       "\n",
       "   slotformat slotprice                          creative  \\\n",
       "0           0        10  00fccc64a1ee2809348509b7ac2a97a5   \n",
       "1          Na         5                             11908   \n",
       "2           1         0  77819d3e0b3467fe5c7b16d68ad923a1   \n",
       "3          Na        30                             10717   \n",
       "4           0        50  44966cc8da1ed40c95d59e863c8c75f0   \n",
       "\n",
       "                            keypage advertiser  \\\n",
       "0  b2e35064f3549d447edbbdfb1f707c8c       3427   \n",
       "1                               NaN       2997   \n",
       "2  bebefa5efe83beee17a3d245e7c5085b       1458   \n",
       "3                               NaN       2821   \n",
       "4  43f4a37f42a7c5e6219e2601b26c6976       3386   \n",
       "\n",
       "                                             usertag  \n",
       "0  10024,10077,10075,10063,10031,10102,10006,1304...  \n",
       "1                                                NaN  \n",
       "2  13866,10006,10024,10059,10048,10063,10067,1008...  \n",
       "3          10075,13042,10006,10110,13776,10031,10063  \n",
       "4                                              10063  \n",
       "\n",
       "[5 rows x 22 columns]"
      ]
     },
     "execution_count": 5,
     "metadata": {},
     "output_type": "execute_result"
    }
   ],
   "source": [
    "test.head()"
   ]
  },
  {
   "cell_type": "code",
   "execution_count": 6,
   "metadata": {
    "scrolled": true
   },
   "outputs": [
    {
     "data": {
      "text/html": [
       "<div>\n",
       "<style scoped>\n",
       "    .dataframe tbody tr th:only-of-type {\n",
       "        vertical-align: middle;\n",
       "    }\n",
       "\n",
       "    .dataframe tbody tr th {\n",
       "        vertical-align: top;\n",
       "    }\n",
       "\n",
       "    .dataframe thead th {\n",
       "        text-align: right;\n",
       "    }\n",
       "</style>\n",
       "<table border=\"1\" class=\"dataframe\">\n",
       "  <thead>\n",
       "    <tr style=\"text-align: right;\">\n",
       "      <th></th>\n",
       "      <th>Unnamed: 0</th>\n",
       "      <th>bidprice</th>\n",
       "      <th>click</th>\n",
       "      <th>payprice</th>\n",
       "      <th>usertag_10006</th>\n",
       "      <th>usertag_10024</th>\n",
       "      <th>usertag_10031</th>\n",
       "      <th>usertag_10048</th>\n",
       "      <th>usertag_10052</th>\n",
       "      <th>usertag_10057</th>\n",
       "      <th>...</th>\n",
       "      <th>advertiser_2821</th>\n",
       "      <th>advertiser_2997</th>\n",
       "      <th>advertiser_3358</th>\n",
       "      <th>advertiser_3386</th>\n",
       "      <th>advertiser_3427</th>\n",
       "      <th>advertiser_3476</th>\n",
       "      <th>adexchange_1.0</th>\n",
       "      <th>adexchange_2.0</th>\n",
       "      <th>adexchange_3.0</th>\n",
       "      <th>adexchange_4.0</th>\n",
       "    </tr>\n",
       "  </thead>\n",
       "  <tbody>\n",
       "    <tr>\n",
       "      <th>0</th>\n",
       "      <td>0</td>\n",
       "      <td>NaN</td>\n",
       "      <td>NaN</td>\n",
       "      <td>NaN</td>\n",
       "      <td>1</td>\n",
       "      <td>1</td>\n",
       "      <td>1</td>\n",
       "      <td>0</td>\n",
       "      <td>0</td>\n",
       "      <td>0</td>\n",
       "      <td>...</td>\n",
       "      <td>0</td>\n",
       "      <td>0</td>\n",
       "      <td>0</td>\n",
       "      <td>0</td>\n",
       "      <td>1</td>\n",
       "      <td>0</td>\n",
       "      <td>0</td>\n",
       "      <td>0</td>\n",
       "      <td>1</td>\n",
       "      <td>0</td>\n",
       "    </tr>\n",
       "    <tr>\n",
       "      <th>1</th>\n",
       "      <td>1</td>\n",
       "      <td>NaN</td>\n",
       "      <td>NaN</td>\n",
       "      <td>NaN</td>\n",
       "      <td>0</td>\n",
       "      <td>0</td>\n",
       "      <td>0</td>\n",
       "      <td>0</td>\n",
       "      <td>0</td>\n",
       "      <td>0</td>\n",
       "      <td>...</td>\n",
       "      <td>0</td>\n",
       "      <td>1</td>\n",
       "      <td>0</td>\n",
       "      <td>0</td>\n",
       "      <td>0</td>\n",
       "      <td>0</td>\n",
       "      <td>0</td>\n",
       "      <td>0</td>\n",
       "      <td>0</td>\n",
       "      <td>0</td>\n",
       "    </tr>\n",
       "    <tr>\n",
       "      <th>2</th>\n",
       "      <td>2</td>\n",
       "      <td>NaN</td>\n",
       "      <td>NaN</td>\n",
       "      <td>NaN</td>\n",
       "      <td>1</td>\n",
       "      <td>1</td>\n",
       "      <td>0</td>\n",
       "      <td>1</td>\n",
       "      <td>0</td>\n",
       "      <td>0</td>\n",
       "      <td>...</td>\n",
       "      <td>0</td>\n",
       "      <td>0</td>\n",
       "      <td>0</td>\n",
       "      <td>0</td>\n",
       "      <td>0</td>\n",
       "      <td>0</td>\n",
       "      <td>1</td>\n",
       "      <td>0</td>\n",
       "      <td>0</td>\n",
       "      <td>0</td>\n",
       "    </tr>\n",
       "    <tr>\n",
       "      <th>3</th>\n",
       "      <td>3</td>\n",
       "      <td>NaN</td>\n",
       "      <td>NaN</td>\n",
       "      <td>NaN</td>\n",
       "      <td>1</td>\n",
       "      <td>0</td>\n",
       "      <td>1</td>\n",
       "      <td>0</td>\n",
       "      <td>0</td>\n",
       "      <td>0</td>\n",
       "      <td>...</td>\n",
       "      <td>1</td>\n",
       "      <td>0</td>\n",
       "      <td>0</td>\n",
       "      <td>0</td>\n",
       "      <td>0</td>\n",
       "      <td>0</td>\n",
       "      <td>0</td>\n",
       "      <td>0</td>\n",
       "      <td>0</td>\n",
       "      <td>1</td>\n",
       "    </tr>\n",
       "    <tr>\n",
       "      <th>4</th>\n",
       "      <td>4</td>\n",
       "      <td>NaN</td>\n",
       "      <td>NaN</td>\n",
       "      <td>NaN</td>\n",
       "      <td>0</td>\n",
       "      <td>0</td>\n",
       "      <td>0</td>\n",
       "      <td>0</td>\n",
       "      <td>0</td>\n",
       "      <td>0</td>\n",
       "      <td>...</td>\n",
       "      <td>0</td>\n",
       "      <td>0</td>\n",
       "      <td>0</td>\n",
       "      <td>1</td>\n",
       "      <td>0</td>\n",
       "      <td>0</td>\n",
       "      <td>0</td>\n",
       "      <td>0</td>\n",
       "      <td>1</td>\n",
       "      <td>0</td>\n",
       "    </tr>\n",
       "  </tbody>\n",
       "</table>\n",
       "<p>5 rows × 503 columns</p>\n",
       "</div>"
      ],
      "text/plain": [
       "   Unnamed: 0  bidprice  click  payprice  usertag_10006  usertag_10024  \\\n",
       "0           0       NaN    NaN       NaN              1              1   \n",
       "1           1       NaN    NaN       NaN              0              0   \n",
       "2           2       NaN    NaN       NaN              1              1   \n",
       "3           3       NaN    NaN       NaN              1              0   \n",
       "4           4       NaN    NaN       NaN              0              0   \n",
       "\n",
       "   usertag_10031  usertag_10048  usertag_10052  usertag_10057       ...        \\\n",
       "0              1              0              0              0       ...         \n",
       "1              0              0              0              0       ...         \n",
       "2              0              1              0              0       ...         \n",
       "3              1              0              0              0       ...         \n",
       "4              0              0              0              0       ...         \n",
       "\n",
       "   advertiser_2821  advertiser_2997  advertiser_3358  advertiser_3386  \\\n",
       "0                0                0                0                0   \n",
       "1                0                1                0                0   \n",
       "2                0                0                0                0   \n",
       "3                1                0                0                0   \n",
       "4                0                0                0                1   \n",
       "\n",
       "   advertiser_3427  advertiser_3476  adexchange_1.0  adexchange_2.0  \\\n",
       "0                1                0               0               0   \n",
       "1                0                0               0               0   \n",
       "2                0                0               1               0   \n",
       "3                0                0               0               0   \n",
       "4                0                0               0               0   \n",
       "\n",
       "   adexchange_3.0  adexchange_4.0  \n",
       "0               1               0  \n",
       "1               0               0  \n",
       "2               0               0  \n",
       "3               0               1  \n",
       "4               1               0  \n",
       "\n",
       "[5 rows x 503 columns]"
      ]
     },
     "execution_count": 6,
     "metadata": {},
     "output_type": "execute_result"
    }
   ],
   "source": [
    "new_test.head()"
   ]
  },
  {
   "cell_type": "code",
   "execution_count": 7,
   "metadata": {},
   "outputs": [],
   "source": [
    "y_train = train['click']\n",
    "X_train = train.drop(['click','bidprice','payprice'],axis=1)\n",
    "test_x = new_test.drop(['click','bidprice','payprice'],axis=1)"
   ]
  },
  {
   "cell_type": "code",
   "execution_count": 9,
   "metadata": {},
   "outputs": [],
   "source": [
    "def XGboosting(X_train,y_train,Validation_x,n_estimators = 200, max_depth = 3, learning_rate = 0.1, random_state = 123):\n",
    "    XG = XGBClassifier(n_estimators = n_estimators, max_depth = max_depth, learning_rate = learning_rate, random_state = random_state)\n",
    "    XG_model = XG.fit(X_train, y_train)\n",
    "    XG_pCTR = XG_model.predict_proba(Validation_x)\n",
    "    XG_pCTR = pd.DataFrame(XG_pCTR)\n",
    "    XG = pd.DataFrame(data = list(zip(test[\"bidid\"], XG_pCTR[1])),\n",
    "                               columns = [\"bidid\", \"pCTR\"])\n",
    "    return XG"
   ]
  },
  {
   "cell_type": "code",
   "execution_count": 10,
   "metadata": {},
   "outputs": [],
   "source": [
    "XG_test =  XGboosting(X_train,y_train,test_x,n_estimators = 200, max_depth = 5 , learning_rate = 0.1, random_state = 500) "
   ]
  },
  {
   "cell_type": "code",
   "execution_count": 17,
   "metadata": {
    "scrolled": false
   },
   "outputs": [
    {
     "data": {
      "text/html": [
       "<div>\n",
       "<style scoped>\n",
       "    .dataframe tbody tr th:only-of-type {\n",
       "        vertical-align: middle;\n",
       "    }\n",
       "\n",
       "    .dataframe tbody tr th {\n",
       "        vertical-align: top;\n",
       "    }\n",
       "\n",
       "    .dataframe thead th {\n",
       "        text-align: right;\n",
       "    }\n",
       "</style>\n",
       "<table border=\"1\" class=\"dataframe\">\n",
       "  <thead>\n",
       "    <tr style=\"text-align: right;\">\n",
       "      <th></th>\n",
       "      <th>bidid</th>\n",
       "      <th>pCTR</th>\n",
       "    </tr>\n",
       "  </thead>\n",
       "  <tbody>\n",
       "    <tr>\n",
       "      <th>0</th>\n",
       "      <td>366c563de7d90feb9d4dab53e795a93fb3157387</td>\n",
       "      <td>0.041628</td>\n",
       "    </tr>\n",
       "    <tr>\n",
       "      <th>1</th>\n",
       "      <td>29167d4caa719788b5a342dbaa25151d53121f80</td>\n",
       "      <td>0.059547</td>\n",
       "    </tr>\n",
       "    <tr>\n",
       "      <th>2</th>\n",
       "      <td>ff8bc3f4d44a3ea60c5f3a3a8fbe7cd98fb2966e</td>\n",
       "      <td>0.002232</td>\n",
       "    </tr>\n",
       "    <tr>\n",
       "      <th>3</th>\n",
       "      <td>844c2da00d45315f20b748ec131c26ee99a7cbc7</td>\n",
       "      <td>0.056854</td>\n",
       "    </tr>\n",
       "    <tr>\n",
       "      <th>4</th>\n",
       "      <td>c6017f0ad0c44d7d0c9b62583ea863f28941c0ca</td>\n",
       "      <td>0.016870</td>\n",
       "    </tr>\n",
       "  </tbody>\n",
       "</table>\n",
       "</div>"
      ],
      "text/plain": [
       "                                      bidid      pCTR\n",
       "0  366c563de7d90feb9d4dab53e795a93fb3157387  0.041628\n",
       "1  29167d4caa719788b5a342dbaa25151d53121f80  0.059547\n",
       "2  ff8bc3f4d44a3ea60c5f3a3a8fbe7cd98fb2966e  0.002232\n",
       "3  844c2da00d45315f20b748ec131c26ee99a7cbc7  0.056854\n",
       "4  c6017f0ad0c44d7d0c9b62583ea863f28941c0ca  0.016870"
      ]
     },
     "execution_count": 17,
     "metadata": {},
     "output_type": "execute_result"
    }
   ],
   "source": [
    "XG_test.head()"
   ]
  },
  {
   "cell_type": "code",
   "execution_count": 9,
   "metadata": {},
   "outputs": [],
   "source": [
    "XG_test.to_csv('XG_test.csv')"
   ]
  },
  {
   "cell_type": "code",
   "execution_count": 54,
   "metadata": {},
   "outputs": [],
   "source": [
    "def XGboosting_pClick(X_train,y_train,Validation_x,n_estimators = 200, max_depth = 3, learning_rate = 0.1, random_state = 500):\n",
    "    XG = XGBClassifier(n_estimators = n_estimators, max_depth = max_depth, learning_rate = learning_rate, random_state = random_state)\n",
    "    XG_model = XG.fit(X_train, y_train)\n",
    "    XG_pClick = XG_model.predict(Validation_x)\n",
    "    XG_pClick = pd.DataFrame(XG_pClick)\n",
    "    XG_pClick = pd.DataFrame(data = list(zip(test[\"bidid\"], XG_pClick[0])),\n",
    "                               columns = [\"bidid\", \"pClick\"])\n",
    "    return XG_pClick"
   ]
  },
  {
   "cell_type": "code",
   "execution_count": 55,
   "metadata": {},
   "outputs": [],
   "source": [
    "XG_pClick =  XGboosting_pClick(X_train,y_train, test_x ,n_estimators = 200, max_depth = 5, learning_rate = 0.1, random_state = 500)"
   ]
  },
  {
   "cell_type": "code",
   "execution_count": 57,
   "metadata": {},
   "outputs": [
    {
     "data": {
      "text/html": [
       "<div>\n",
       "<style scoped>\n",
       "    .dataframe tbody tr th:only-of-type {\n",
       "        vertical-align: middle;\n",
       "    }\n",
       "\n",
       "    .dataframe tbody tr th {\n",
       "        vertical-align: top;\n",
       "    }\n",
       "\n",
       "    .dataframe thead th {\n",
       "        text-align: right;\n",
       "    }\n",
       "</style>\n",
       "<table border=\"1\" class=\"dataframe\">\n",
       "  <thead>\n",
       "    <tr style=\"text-align: right;\">\n",
       "      <th></th>\n",
       "      <th>bidid</th>\n",
       "      <th>pClick</th>\n",
       "    </tr>\n",
       "  </thead>\n",
       "  <tbody>\n",
       "    <tr>\n",
       "      <th>0</th>\n",
       "      <td>366c563de7d90feb9d4dab53e795a93fb3157387</td>\n",
       "      <td>0.0</td>\n",
       "    </tr>\n",
       "    <tr>\n",
       "      <th>1</th>\n",
       "      <td>29167d4caa719788b5a342dbaa25151d53121f80</td>\n",
       "      <td>0.0</td>\n",
       "    </tr>\n",
       "    <tr>\n",
       "      <th>2</th>\n",
       "      <td>ff8bc3f4d44a3ea60c5f3a3a8fbe7cd98fb2966e</td>\n",
       "      <td>0.0</td>\n",
       "    </tr>\n",
       "    <tr>\n",
       "      <th>3</th>\n",
       "      <td>844c2da00d45315f20b748ec131c26ee99a7cbc7</td>\n",
       "      <td>0.0</td>\n",
       "    </tr>\n",
       "    <tr>\n",
       "      <th>4</th>\n",
       "      <td>c6017f0ad0c44d7d0c9b62583ea863f28941c0ca</td>\n",
       "      <td>0.0</td>\n",
       "    </tr>\n",
       "  </tbody>\n",
       "</table>\n",
       "</div>"
      ],
      "text/plain": [
       "                                      bidid  pClick\n",
       "0  366c563de7d90feb9d4dab53e795a93fb3157387     0.0\n",
       "1  29167d4caa719788b5a342dbaa25151d53121f80     0.0\n",
       "2  ff8bc3f4d44a3ea60c5f3a3a8fbe7cd98fb2966e     0.0\n",
       "3  844c2da00d45315f20b748ec131c26ee99a7cbc7     0.0\n",
       "4  c6017f0ad0c44d7d0c9b62583ea863f28941c0ca     0.0"
      ]
     },
     "execution_count": 57,
     "metadata": {},
     "output_type": "execute_result"
    }
   ],
   "source": [
    "XG_pClick.head()"
   ]
  },
  {
   "cell_type": "code",
   "execution_count": 58,
   "metadata": {},
   "outputs": [],
   "source": [
    "XG_pClick.to_csv('XG_pClick.csv')"
   ]
  },
  {
   "cell_type": "code",
   "execution_count": null,
   "metadata": {},
   "outputs": [],
   "source": []
  },
  {
   "cell_type": "markdown",
   "metadata": {},
   "source": [
    "<font face=\"微软雅黑\" size=6 color=#000000> Linear Strategy"
   ]
  },
  {
   "cell_type": "code",
   "execution_count": 12,
   "metadata": {},
   "outputs": [],
   "source": [
    "#basebid =176.66667\n",
    "avgCTR= 0.0007375623256619447"
   ]
  },
  {
   "cell_type": "code",
   "execution_count": 12,
   "metadata": {},
   "outputs": [],
   "source": [
    "def LinearStrategy(pCTR, base_bid,avgCTR):\n",
    "    avgCTR = np.repeat(avgCTR*100, pCTR.shape[0])\n",
    "    base_bid =  np.repeat(base_bid, pCTR.shape[0])\n",
    "    bidprices  = (base_bid * pCTR['pCTR'])/ avgCTR\n",
    "    return bidprices"
   ]
  },
  {
   "cell_type": "code",
   "execution_count": 59,
   "metadata": {},
   "outputs": [],
   "source": [
    "bidprices = LinearStrategy(XG_test, 193,avgCTR)"
   ]
  },
  {
   "cell_type": "code",
   "execution_count": 60,
   "metadata": {},
   "outputs": [],
   "source": [
    "Group_17 = pd.DataFrame(data = list(zip(test[\"bidid\"], bidprices)),\n",
    "                               columns = [\"bidid\", \"bidprice\"])"
   ]
  },
  {
   "cell_type": "code",
   "execution_count": 61,
   "metadata": {},
   "outputs": [
    {
     "data": {
      "text/html": [
       "<div>\n",
       "<style scoped>\n",
       "    .dataframe tbody tr th:only-of-type {\n",
       "        vertical-align: middle;\n",
       "    }\n",
       "\n",
       "    .dataframe tbody tr th {\n",
       "        vertical-align: top;\n",
       "    }\n",
       "\n",
       "    .dataframe thead th {\n",
       "        text-align: right;\n",
       "    }\n",
       "</style>\n",
       "<table border=\"1\" class=\"dataframe\">\n",
       "  <thead>\n",
       "    <tr style=\"text-align: right;\">\n",
       "      <th></th>\n",
       "      <th>bidid</th>\n",
       "      <th>bidprice</th>\n",
       "    </tr>\n",
       "  </thead>\n",
       "  <tbody>\n",
       "    <tr>\n",
       "      <th>0</th>\n",
       "      <td>366c563de7d90feb9d4dab53e795a93fb3157387</td>\n",
       "      <td>108.929064</td>\n",
       "    </tr>\n",
       "    <tr>\n",
       "      <th>1</th>\n",
       "      <td>29167d4caa719788b5a342dbaa25151d53121f80</td>\n",
       "      <td>155.817844</td>\n",
       "    </tr>\n",
       "    <tr>\n",
       "      <th>2</th>\n",
       "      <td>ff8bc3f4d44a3ea60c5f3a3a8fbe7cd98fb2966e</td>\n",
       "      <td>5.841322</td>\n",
       "    </tr>\n",
       "    <tr>\n",
       "      <th>3</th>\n",
       "      <td>844c2da00d45315f20b748ec131c26ee99a7cbc7</td>\n",
       "      <td>148.771236</td>\n",
       "    </tr>\n",
       "    <tr>\n",
       "      <th>4</th>\n",
       "      <td>c6017f0ad0c44d7d0c9b62583ea863f28941c0ca</td>\n",
       "      <td>44.143922</td>\n",
       "    </tr>\n",
       "  </tbody>\n",
       "</table>\n",
       "</div>"
      ],
      "text/plain": [
       "                                      bidid    bidprice\n",
       "0  366c563de7d90feb9d4dab53e795a93fb3157387  108.929064\n",
       "1  29167d4caa719788b5a342dbaa25151d53121f80  155.817844\n",
       "2  ff8bc3f4d44a3ea60c5f3a3a8fbe7cd98fb2966e    5.841322\n",
       "3  844c2da00d45315f20b748ec131c26ee99a7cbc7  148.771236\n",
       "4  c6017f0ad0c44d7d0c9b62583ea863f28941c0ca   44.143922"
      ]
     },
     "execution_count": 61,
     "metadata": {},
     "output_type": "execute_result"
    }
   ],
   "source": [
    "Group_17.head()"
   ]
  },
  {
   "cell_type": "code",
   "execution_count": 62,
   "metadata": {},
   "outputs": [],
   "source": [
    "Group_17.to_csv(\"Group_17.csv\")"
   ]
  },
  {
   "cell_type": "code",
   "execution_count": 36,
   "metadata": {},
   "outputs": [
    {
     "data": {
      "text/plain": [
       "(303375, 2)"
      ]
     },
     "execution_count": 36,
     "metadata": {},
     "output_type": "execute_result"
    }
   ],
   "source": [
    "Group_17.shape"
   ]
  },
  {
   "cell_type": "code",
   "execution_count": 35,
   "metadata": {},
   "outputs": [
    {
     "data": {
      "text/plain": [
       "1623833.4178352463"
      ]
     },
     "execution_count": 35,
     "metadata": {},
     "output_type": "execute_result"
    }
   ],
   "source": [
    "Group_17['bidprice'].sort_values()[-1000:].sum()"
   ]
  },
  {
   "cell_type": "code",
   "execution_count": 1,
   "metadata": {},
   "outputs": [],
   "source": [
    "def Non_LinearStrategy(pCTR, base_bid,avgCTR,m,n):\n",
    "    avgCTR = np.repeat(avgCTR*100, pCTR.shape[0])\n",
    "    base_bid =  np.repeat(base_bid, pCTR.shape[0])\n",
    "    m= np.repeat(m, pCTR.shape[0])\n",
    "    n= np.repeat(n, pCTR.shape[0])\n",
    "    bidprices  =  base_bid  * ((pCTR['pCTR']/ avgCTR)**2) + m* (pCTR['pCTR']/ avgCTR) + n\n",
    "    return bidprices"
   ]
  },
  {
   "cell_type": "code",
   "execution_count": 10,
   "metadata": {},
   "outputs": [],
   "source": [
    "XG_test =  pd.read_csv('XG_test.csv')"
   ]
  },
  {
   "cell_type": "code",
   "execution_count": 13,
   "metadata": {},
   "outputs": [],
   "source": [
    "bidprices = Non_LinearStrategy(XG_test,166.66667  ,avgCTR, 105.555556 , 2)"
   ]
  },
  {
   "cell_type": "code",
   "execution_count": 14,
   "metadata": {},
   "outputs": [],
   "source": [
    "Group_17 = pd.DataFrame(data = list(zip(test[\"bidid\"], bidprices)),\n",
    "                               columns = [\"bidid\", \"bidprice\"])"
   ]
  },
  {
   "cell_type": "code",
   "execution_count": 16,
   "metadata": {},
   "outputs": [],
   "source": [
    "Group_17.to_csv(\"Group_17.csv\")"
   ]
  },
  {
   "cell_type": "code",
   "execution_count": 17,
   "metadata": {
    "scrolled": true
   },
   "outputs": [
    {
     "data": {
      "text/html": [
       "<div>\n",
       "<style scoped>\n",
       "    .dataframe tbody tr th:only-of-type {\n",
       "        vertical-align: middle;\n",
       "    }\n",
       "\n",
       "    .dataframe tbody tr th {\n",
       "        vertical-align: top;\n",
       "    }\n",
       "\n",
       "    .dataframe thead th {\n",
       "        text-align: right;\n",
       "    }\n",
       "</style>\n",
       "<table border=\"1\" class=\"dataframe\">\n",
       "  <thead>\n",
       "    <tr style=\"text-align: right;\">\n",
       "      <th></th>\n",
       "      <th>bidid</th>\n",
       "      <th>bidprice</th>\n",
       "    </tr>\n",
       "  </thead>\n",
       "  <tbody>\n",
       "    <tr>\n",
       "      <th>0</th>\n",
       "      <td>366c563de7d90feb9d4dab53e795a93fb3157387</td>\n",
       "      <td>114.666577</td>\n",
       "    </tr>\n",
       "    <tr>\n",
       "      <th>1</th>\n",
       "      <td>29167d4caa719788b5a342dbaa25151d53121f80</td>\n",
       "      <td>195.854580</td>\n",
       "    </tr>\n",
       "    <tr>\n",
       "      <th>2</th>\n",
       "      <td>ff8bc3f4d44a3ea60c5f3a3a8fbe7cd98fb2966e</td>\n",
       "      <td>5.347406</td>\n",
       "    </tr>\n",
       "    <tr>\n",
       "      <th>3</th>\n",
       "      <td>844c2da00d45315f20b748ec131c26ee99a7cbc7</td>\n",
       "      <td>182.397171</td>\n",
       "    </tr>\n",
       "    <tr>\n",
       "      <th>4</th>\n",
       "      <td>c6017f0ad0c44d7d0c9b62583ea863f28941c0ca</td>\n",
       "      <td>34.862380</td>\n",
       "    </tr>\n",
       "  </tbody>\n",
       "</table>\n",
       "</div>"
      ],
      "text/plain": [
       "                                      bidid    bidprice\n",
       "0  366c563de7d90feb9d4dab53e795a93fb3157387  114.666577\n",
       "1  29167d4caa719788b5a342dbaa25151d53121f80  195.854580\n",
       "2  ff8bc3f4d44a3ea60c5f3a3a8fbe7cd98fb2966e    5.347406\n",
       "3  844c2da00d45315f20b748ec131c26ee99a7cbc7  182.397171\n",
       "4  c6017f0ad0c44d7d0c9b62583ea863f28941c0ca   34.862380"
      ]
     },
     "execution_count": 17,
     "metadata": {},
     "output_type": "execute_result"
    }
   ],
   "source": [
    "Group_17.head()"
   ]
  },
  {
   "cell_type": "code",
   "execution_count": 19,
   "metadata": {},
   "outputs": [
    {
     "data": {
      "text/html": [
       "<div>\n",
       "<style scoped>\n",
       "    .dataframe tbody tr th:only-of-type {\n",
       "        vertical-align: middle;\n",
       "    }\n",
       "\n",
       "    .dataframe tbody tr th {\n",
       "        vertical-align: top;\n",
       "    }\n",
       "\n",
       "    .dataframe thead th {\n",
       "        text-align: right;\n",
       "    }\n",
       "</style>\n",
       "<table border=\"1\" class=\"dataframe\">\n",
       "  <thead>\n",
       "    <tr style=\"text-align: right;\">\n",
       "      <th></th>\n",
       "      <th>bidid</th>\n",
       "      <th>bidprice</th>\n",
       "    </tr>\n",
       "  </thead>\n",
       "  <tbody>\n",
       "    <tr>\n",
       "      <th>303370</th>\n",
       "      <td>c3bb9e4340efd0b7727e1340be7975856878e27c</td>\n",
       "      <td>10.665812</td>\n",
       "    </tr>\n",
       "    <tr>\n",
       "      <th>303371</th>\n",
       "      <td>75a0dac04603fa79e811f1c3e7d1a309f5a81bbf</td>\n",
       "      <td>11.195738</td>\n",
       "    </tr>\n",
       "    <tr>\n",
       "      <th>303372</th>\n",
       "      <td>edb83d1e92bab4113360a655b68c2e44ace6a81d</td>\n",
       "      <td>17.747870</td>\n",
       "    </tr>\n",
       "    <tr>\n",
       "      <th>303373</th>\n",
       "      <td>5eca186cb78a6eaadf91aa7070c88f2c25e31464</td>\n",
       "      <td>34.612200</td>\n",
       "    </tr>\n",
       "    <tr>\n",
       "      <th>303374</th>\n",
       "      <td>afcdff59c976336fbcecb98b2c7379d369496131</td>\n",
       "      <td>6.556782</td>\n",
       "    </tr>\n",
       "  </tbody>\n",
       "</table>\n",
       "</div>"
      ],
      "text/plain": [
       "                                           bidid   bidprice\n",
       "303370  c3bb9e4340efd0b7727e1340be7975856878e27c  10.665812\n",
       "303371  75a0dac04603fa79e811f1c3e7d1a309f5a81bbf  11.195738\n",
       "303372  edb83d1e92bab4113360a655b68c2e44ace6a81d  17.747870\n",
       "303373  5eca186cb78a6eaadf91aa7070c88f2c25e31464  34.612200\n",
       "303374  afcdff59c976336fbcecb98b2c7379d369496131   6.556782"
      ]
     },
     "execution_count": 19,
     "metadata": {},
     "output_type": "execute_result"
    }
   ],
   "source": [
    "Group_17.tail()"
   ]
  },
  {
   "cell_type": "markdown",
   "metadata": {},
   "source": [
    "<font face=\"微软雅黑\" size=6 color=#000000> ORTB"
   ]
  },
  {
   "cell_type": "code",
   "execution_count": 20,
   "metadata": {},
   "outputs": [],
   "source": [
    "c =   6 \n",
    "lambdas = 0.000025"
   ]
  },
  {
   "cell_type": "code",
   "execution_count": 21,
   "metadata": {},
   "outputs": [],
   "source": [
    "def Optimal_RealTime_Bidding_1(pCTR, c, lambdas):\n",
    "    c= np.repeat(c, pCTR.shape[0])\n",
    "    lambdas = np.repeat(lambdas, pCTR.shape[0])\n",
    "    bidprices = np.sqrt( (c/lambdas * pCTR['pCTR'] )+c**2) - c\n",
    "    return bidprices"
   ]
  },
  {
   "cell_type": "code",
   "execution_count": 22,
   "metadata": {},
   "outputs": [],
   "source": [
    "bidprices = Optimal_RealTime_Bidding_1(XG_test, c, lambdas)"
   ]
  },
  {
   "cell_type": "code",
   "execution_count": 23,
   "metadata": {},
   "outputs": [],
   "source": [
    "Group_17 = pd.DataFrame(data = list(zip(test[\"bidid\"], bidprices)),\n",
    "                               columns = [\"bidid\", \"bidprice\"])"
   ]
  },
  {
   "cell_type": "code",
   "execution_count": 24,
   "metadata": {},
   "outputs": [
    {
     "data": {
      "text/html": [
       "<div>\n",
       "<style scoped>\n",
       "    .dataframe tbody tr th:only-of-type {\n",
       "        vertical-align: middle;\n",
       "    }\n",
       "\n",
       "    .dataframe tbody tr th {\n",
       "        vertical-align: top;\n",
       "    }\n",
       "\n",
       "    .dataframe thead th {\n",
       "        text-align: right;\n",
       "    }\n",
       "</style>\n",
       "<table border=\"1\" class=\"dataframe\">\n",
       "  <thead>\n",
       "    <tr style=\"text-align: right;\">\n",
       "      <th></th>\n",
       "      <th>bidid</th>\n",
       "      <th>bidprice</th>\n",
       "    </tr>\n",
       "  </thead>\n",
       "  <tbody>\n",
       "    <tr>\n",
       "      <th>0</th>\n",
       "      <td>366c563de7d90feb9d4dab53e795a93fb3157387</td>\n",
       "      <td>94.133470</td>\n",
       "    </tr>\n",
       "    <tr>\n",
       "      <th>1</th>\n",
       "      <td>29167d4caa719788b5a342dbaa25151d53121f80</td>\n",
       "      <td>113.696441</td>\n",
       "    </tr>\n",
       "    <tr>\n",
       "      <th>2</th>\n",
       "      <td>ff8bc3f4d44a3ea60c5f3a3a8fbe7cd98fb2966e</td>\n",
       "      <td>17.911336</td>\n",
       "    </tr>\n",
       "    <tr>\n",
       "      <th>3</th>\n",
       "      <td>844c2da00d45315f20b748ec131c26ee99a7cbc7</td>\n",
       "      <td>110.965550</td>\n",
       "    </tr>\n",
       "    <tr>\n",
       "      <th>4</th>\n",
       "      <td>c6017f0ad0c44d7d0c9b62583ea863f28941c0ca</td>\n",
       "      <td>57.912240</td>\n",
       "    </tr>\n",
       "  </tbody>\n",
       "</table>\n",
       "</div>"
      ],
      "text/plain": [
       "                                      bidid    bidprice\n",
       "0  366c563de7d90feb9d4dab53e795a93fb3157387   94.133470\n",
       "1  29167d4caa719788b5a342dbaa25151d53121f80  113.696441\n",
       "2  ff8bc3f4d44a3ea60c5f3a3a8fbe7cd98fb2966e   17.911336\n",
       "3  844c2da00d45315f20b748ec131c26ee99a7cbc7  110.965550\n",
       "4  c6017f0ad0c44d7d0c9b62583ea863f28941c0ca   57.912240"
      ]
     },
     "execution_count": 24,
     "metadata": {},
     "output_type": "execute_result"
    }
   ],
   "source": [
    "Group_17.head()"
   ]
  },
  {
   "cell_type": "code",
   "execution_count": 25,
   "metadata": {},
   "outputs": [],
   "source": [
    "Group_17.to_csv(\"Group_17.csv\")"
   ]
  },
  {
   "cell_type": "markdown",
   "metadata": {},
   "source": [
    "<font face=\"微软雅黑\" size=6 color=#000000> Reserve "
   ]
  },
  {
   "cell_type": "code",
   "execution_count": 53,
   "metadata": {},
   "outputs": [],
   "source": [
    "reversed_test = test_x.iloc[::-1]"
   ]
  },
  {
   "cell_type": "code",
   "execution_count": 54,
   "metadata": {},
   "outputs": [],
   "source": [
    "XG_test =  XGboosting(X_train,y_train,reversed_test,n_estimators = 200, max_depth = 5 , learning_rate = 0.1, random_state = 500) "
   ]
  },
  {
   "cell_type": "code",
   "execution_count": null,
   "metadata": {},
   "outputs": [],
   "source": [
    "bidprices = LinearStrategy(XG_test, basebid,avgCTR)"
   ]
  }
 ],
 "metadata": {
  "kernelspec": {
   "display_name": "Python 3",
   "language": "python",
   "name": "python3"
  },
  "language_info": {
   "codemirror_mode": {
    "name": "ipython",
    "version": 3
   },
   "file_extension": ".py",
   "mimetype": "text/x-python",
   "name": "python",
   "nbconvert_exporter": "python",
   "pygments_lexer": "ipython3",
   "version": "3.6.5"
  }
 },
 "nbformat": 4,
 "nbformat_minor": 2
}
