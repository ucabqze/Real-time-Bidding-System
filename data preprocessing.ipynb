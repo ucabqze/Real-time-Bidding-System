{
 "cells": [
  {
   "cell_type": "code",
   "execution_count": 3,
   "metadata": {},
   "outputs": [],
   "source": [
    "import numpy as np\n",
    "import pandas as pd\n",
    "import math\n",
    "from sklearn.utils import resample\n",
    "from sklearn.preprocessing import LabelEncoder\n",
    "from sklearn.base import TransformerMixin\n",
    "import itertools\n",
    "\n",
    "# slotprice, non-linear, gradiant boosting tree"
   ]
  },
  {
   "cell_type": "code",
   "execution_count": 34,
   "metadata": {},
   "outputs": [],
   "source": [
    "train = pd.read_csv('train.csv')\n",
    "test = pd.read_csv('test.csv')\n",
    "validation = pd.read_csv('validation.csv')"
   ]
  },
  {
   "cell_type": "code",
   "execution_count": 35,
   "metadata": {
    "scrolled": false
   },
   "outputs": [
    {
     "data": {
      "text/plain": [
       "0    2429188\n",
       "1       1793\n",
       "Name: click, dtype: int64"
      ]
     },
     "execution_count": 35,
     "metadata": {},
     "output_type": "execute_result"
    }
   ],
   "source": [
    "train.click.value_counts()"
   ]
  },
  {
   "cell_type": "code",
   "execution_count": 36,
   "metadata": {
    "scrolled": true
   },
   "outputs": [
    {
     "name": "stderr",
     "output_type": "stream",
     "text": [
      "/Users/sue/anaconda3/lib/python3.6/site-packages/ipykernel_launcher.py:1: FutureWarning: Sorting because non-concatenation axis is not aligned. A future version\n",
      "of pandas will change to not sort by default.\n",
      "\n",
      "To accept the future behavior, pass 'sort=True'.\n",
      "\n",
      "To retain the current behavior and silence the warning, pass sort=False\n",
      "\n",
      "  \"\"\"Entry point for launching an IPython kernel.\n"
     ]
    }
   ],
   "source": [
    "total = pd.concat([train, validation, test])"
   ]
  },
  {
   "cell_type": "code",
   "execution_count": 37,
   "metadata": {
    "scrolled": true
   },
   "outputs": [
    {
     "data": {
      "text/html": [
       "<div>\n",
       "<style scoped>\n",
       "    .dataframe tbody tr th:only-of-type {\n",
       "        vertical-align: middle;\n",
       "    }\n",
       "\n",
       "    .dataframe tbody tr th {\n",
       "        vertical-align: top;\n",
       "    }\n",
       "\n",
       "    .dataframe thead th {\n",
       "        text-align: right;\n",
       "    }\n",
       "</style>\n",
       "<table border=\"1\" class=\"dataframe\">\n",
       "  <thead>\n",
       "    <tr style=\"text-align: right;\">\n",
       "      <th></th>\n",
       "      <th>IP</th>\n",
       "      <th>adexchange</th>\n",
       "      <th>advertiser</th>\n",
       "      <th>bidid</th>\n",
       "      <th>bidprice</th>\n",
       "      <th>city</th>\n",
       "      <th>click</th>\n",
       "      <th>creative</th>\n",
       "      <th>domain</th>\n",
       "      <th>hour</th>\n",
       "      <th>...</th>\n",
       "      <th>slotid</th>\n",
       "      <th>slotprice</th>\n",
       "      <th>slotvisibility</th>\n",
       "      <th>slotwidth</th>\n",
       "      <th>url</th>\n",
       "      <th>urlid</th>\n",
       "      <th>useragent</th>\n",
       "      <th>userid</th>\n",
       "      <th>usertag</th>\n",
       "      <th>weekday</th>\n",
       "    </tr>\n",
       "  </thead>\n",
       "  <tbody>\n",
       "    <tr>\n",
       "      <th>0</th>\n",
       "      <td>125.37.175.*</td>\n",
       "      <td>2.0</td>\n",
       "      <td>3427</td>\n",
       "      <td>b7bea80521fdecd95d2d761a38c91c3f09618066</td>\n",
       "      <td>238.0</td>\n",
       "      <td>2</td>\n",
       "      <td>0.0</td>\n",
       "      <td>a4f763f78ef3eedfe614263b94a8924e</td>\n",
       "      <td>trqRTvKaXTKfgg24JKTI</td>\n",
       "      <td>22</td>\n",
       "      <td>...</td>\n",
       "      <td>2015392487</td>\n",
       "      <td>5</td>\n",
       "      <td>2</td>\n",
       "      <td>200</td>\n",
       "      <td>6447a7dfa30fe6eb410c91860e7c9b45</td>\n",
       "      <td>NaN</td>\n",
       "      <td>windows_ie</td>\n",
       "      <td>2e880fb7d690cf7377b2e42e701728e3f3c0e4c1</td>\n",
       "      <td>NaN</td>\n",
       "      <td>5</td>\n",
       "    </tr>\n",
       "    <tr>\n",
       "      <th>1</th>\n",
       "      <td>171.36.92.*</td>\n",
       "      <td>1.0</td>\n",
       "      <td>2821</td>\n",
       "      <td>4f51205475678f5a124bc76b2c54163bf8eaa7eb</td>\n",
       "      <td>294.0</td>\n",
       "      <td>239</td>\n",
       "      <td>0.0</td>\n",
       "      <td>10722</td>\n",
       "      <td>20fc675468712705dbf5d3eda94126da</td>\n",
       "      <td>20</td>\n",
       "      <td>...</td>\n",
       "      <td>mm_10982364_973726_8930541</td>\n",
       "      <td>0</td>\n",
       "      <td>FourthView</td>\n",
       "      <td>300</td>\n",
       "      <td>3ddf173a94bd23c326683b6373c75dd4</td>\n",
       "      <td>NaN</td>\n",
       "      <td>windows_chrome</td>\n",
       "      <td>3a1fe01360ff8100e7d006b83b77a3e4c01d928c</td>\n",
       "      <td>NaN</td>\n",
       "      <td>1</td>\n",
       "    </tr>\n",
       "    <tr>\n",
       "      <th>2</th>\n",
       "      <td>59.46.106.*</td>\n",
       "      <td>2.0</td>\n",
       "      <td>3427</td>\n",
       "      <td>b604e3fd054a658ab7ced4285ebf2ef54d2bd890</td>\n",
       "      <td>238.0</td>\n",
       "      <td>41</td>\n",
       "      <td>0.0</td>\n",
       "      <td>798b2d49952d77f1eace9f23c210d0b5</td>\n",
       "      <td>trqRTJn7O95I1mKYUV</td>\n",
       "      <td>13</td>\n",
       "      <td>...</td>\n",
       "      <td>1720123646</td>\n",
       "      <td>5</td>\n",
       "      <td>2</td>\n",
       "      <td>250</td>\n",
       "      <td>625d1b5916ea925332c7b326c0574cfa</td>\n",
       "      <td>NaN</td>\n",
       "      <td>windows_ie</td>\n",
       "      <td>801d18a056b6fe6b06a794aef17fb0d6daff2414</td>\n",
       "      <td>10052,10006,13866,10110</td>\n",
       "      <td>3</td>\n",
       "    </tr>\n",
       "    <tr>\n",
       "      <th>3</th>\n",
       "      <td>114.250.226.*</td>\n",
       "      <td>1.0</td>\n",
       "      <td>1458</td>\n",
       "      <td>0348beeae93e561584c3b50fc9e7746a33048ad7</td>\n",
       "      <td>300.0</td>\n",
       "      <td>1</td>\n",
       "      <td>0.0</td>\n",
       "      <td>cb7c76e7784031272e37af8e7e9b062c</td>\n",
       "      <td>5F97t5E0BTK7XhNrUMpENpn</td>\n",
       "      <td>23</td>\n",
       "      <td>...</td>\n",
       "      <td>mm_10027070_118039_10308280</td>\n",
       "      <td>0</td>\n",
       "      <td>2</td>\n",
       "      <td>160</td>\n",
       "      <td>dedc488b98ca20707bc9a723957e7d1f</td>\n",
       "      <td>NaN</td>\n",
       "      <td>windows_ie</td>\n",
       "      <td>0d6eaf2259699990e38a1fc5116f112070b9ecdc</td>\n",
       "      <td>13866,10063,10111</td>\n",
       "      <td>6</td>\n",
       "    </tr>\n",
       "    <tr>\n",
       "      <th>4</th>\n",
       "      <td>183.63.192.*</td>\n",
       "      <td>2.0</td>\n",
       "      <td>2259</td>\n",
       "      <td>268149c1789bce2bc9798ffd97ec431219bafeb3</td>\n",
       "      <td>277.0</td>\n",
       "      <td>233</td>\n",
       "      <td>0.0</td>\n",
       "      <td>7330</td>\n",
       "      <td>13625cb070ffb306b425cd803c4b7ab4</td>\n",
       "      <td>6</td>\n",
       "      <td>...</td>\n",
       "      <td>1120200150</td>\n",
       "      <td>133</td>\n",
       "      <td>OtherView</td>\n",
       "      <td>728</td>\n",
       "      <td>4199d1227c511fc776b76594dabff9f8</td>\n",
       "      <td>NaN</td>\n",
       "      <td>windows_ie</td>\n",
       "      <td>a239d9bb642460d974ba67f85e63b8d3e214da0e</td>\n",
       "      <td>NaN</td>\n",
       "      <td>5</td>\n",
       "    </tr>\n",
       "  </tbody>\n",
       "</table>\n",
       "<p>5 rows × 25 columns</p>\n",
       "</div>"
      ],
      "text/plain": [
       "              IP  adexchange  advertiser  \\\n",
       "0   125.37.175.*         2.0        3427   \n",
       "1    171.36.92.*         1.0        2821   \n",
       "2    59.46.106.*         2.0        3427   \n",
       "3  114.250.226.*         1.0        1458   \n",
       "4   183.63.192.*         2.0        2259   \n",
       "\n",
       "                                      bidid  bidprice  city  click  \\\n",
       "0  b7bea80521fdecd95d2d761a38c91c3f09618066     238.0     2    0.0   \n",
       "1  4f51205475678f5a124bc76b2c54163bf8eaa7eb     294.0   239    0.0   \n",
       "2  b604e3fd054a658ab7ced4285ebf2ef54d2bd890     238.0    41    0.0   \n",
       "3  0348beeae93e561584c3b50fc9e7746a33048ad7     300.0     1    0.0   \n",
       "4  268149c1789bce2bc9798ffd97ec431219bafeb3     277.0   233    0.0   \n",
       "\n",
       "                           creative                            domain  hour  \\\n",
       "0  a4f763f78ef3eedfe614263b94a8924e              trqRTvKaXTKfgg24JKTI    22   \n",
       "1                             10722  20fc675468712705dbf5d3eda94126da    20   \n",
       "2  798b2d49952d77f1eace9f23c210d0b5                trqRTJn7O95I1mKYUV    13   \n",
       "3  cb7c76e7784031272e37af8e7e9b062c           5F97t5E0BTK7XhNrUMpENpn    23   \n",
       "4                              7330  13625cb070ffb306b425cd803c4b7ab4     6   \n",
       "\n",
       "    ...                         slotid  slotprice  slotvisibility slotwidth  \\\n",
       "0   ...                     2015392487          5               2       200   \n",
       "1   ...     mm_10982364_973726_8930541          0      FourthView       300   \n",
       "2   ...                     1720123646          5               2       250   \n",
       "3   ...    mm_10027070_118039_10308280          0               2       160   \n",
       "4   ...                     1120200150        133       OtherView       728   \n",
       "\n",
       "                                url urlid       useragent  \\\n",
       "0  6447a7dfa30fe6eb410c91860e7c9b45   NaN      windows_ie   \n",
       "1  3ddf173a94bd23c326683b6373c75dd4   NaN  windows_chrome   \n",
       "2  625d1b5916ea925332c7b326c0574cfa   NaN      windows_ie   \n",
       "3  dedc488b98ca20707bc9a723957e7d1f   NaN      windows_ie   \n",
       "4  4199d1227c511fc776b76594dabff9f8   NaN      windows_ie   \n",
       "\n",
       "                                     userid                  usertag weekday  \n",
       "0  2e880fb7d690cf7377b2e42e701728e3f3c0e4c1                      NaN       5  \n",
       "1  3a1fe01360ff8100e7d006b83b77a3e4c01d928c                      NaN       1  \n",
       "2  801d18a056b6fe6b06a794aef17fb0d6daff2414  10052,10006,13866,10110       3  \n",
       "3  0d6eaf2259699990e38a1fc5116f112070b9ecdc        13866,10063,10111       6  \n",
       "4  a239d9bb642460d974ba67f85e63b8d3e214da0e                      NaN       5  \n",
       "\n",
       "[5 rows x 25 columns]"
      ]
     },
     "execution_count": 37,
     "metadata": {},
     "output_type": "execute_result"
    }
   ],
   "source": [
    "total.head()"
   ]
  },
  {
   "cell_type": "code",
   "execution_count": 38,
   "metadata": {},
   "outputs": [],
   "source": [
    "total[\"usertag\"] = total[\"usertag\"].fillna(\"\") "
   ]
  },
  {
   "cell_type": "code",
   "execution_count": 39,
   "metadata": {},
   "outputs": [],
   "source": [
    "def UsertagCategories(df):\n",
    "    \n",
    "    # Drop nan\n",
    "    df = df[\"usertag\"].dropna().reset_index(drop = True)\n",
    "    \n",
    "    # Find unique usertags\n",
    "    usertags_list = [df[i].split(\",\") for i in range(df.shape[0])]\n",
    "    \n",
    "    # itertools.chain.from_iterable joins a list of lists into a single list\n",
    "    usertags = np.unique(list(itertools.chain.from_iterable(usertags_list)))\n",
    "    \n",
    "    # Remove the empty string \"\"\n",
    "    usertags = [tag for tag in usertags if len(tag) > 0]\n",
    "    \n",
    "    return usertags"
   ]
  },
  {
   "cell_type": "code",
   "execution_count": 40,
   "metadata": {},
   "outputs": [],
   "source": [
    "usertags_train = UsertagCategories(total)"
   ]
  },
  {
   "cell_type": "code",
   "execution_count": 41,
   "metadata": {},
   "outputs": [],
   "source": [
    "for tag in usertags_train:\n",
    "    col_name = \"usertag_\" + tag\n",
    "    total[col_name] = total[\"usertag\"].map(lambda x: 1 if tag in x.split(\",\") else 0)\n"
   ]
  },
  {
   "cell_type": "code",
   "execution_count": 42,
   "metadata": {},
   "outputs": [
    {
     "data": {
      "text/plain": [
       "Index(['IP', 'adexchange', 'advertiser', 'bidid', 'bidprice', 'city', 'click',\n",
       "       'creative', 'domain', 'hour', 'keypage', 'payprice', 'region',\n",
       "       'slotformat', 'slotheight', 'slotid', 'slotprice', 'slotvisibility',\n",
       "       'slotwidth', 'url', 'urlid', 'useragent', 'userid', 'usertag',\n",
       "       'weekday', 'usertag_10006', 'usertag_10024', 'usertag_10031',\n",
       "       'usertag_10048', 'usertag_10052', 'usertag_10057', 'usertag_10059',\n",
       "       'usertag_10063', 'usertag_10067', 'usertag_10074', 'usertag_10075',\n",
       "       'usertag_10076', 'usertag_10077', 'usertag_10079', 'usertag_10083',\n",
       "       'usertag_10093', 'usertag_10102', 'usertag_10110', 'usertag_10111',\n",
       "       'usertag_10114', 'usertag_10115', 'usertag_10116', 'usertag_10117',\n",
       "       'usertag_10118', 'usertag_10120', 'usertag_10123', 'usertag_10125',\n",
       "       'usertag_10126', 'usertag_10127', 'usertag_10129', 'usertag_10130',\n",
       "       'usertag_10131', 'usertag_10133', 'usertag_10138', 'usertag_10140',\n",
       "       'usertag_10142', 'usertag_10145', 'usertag_10146', 'usertag_10147',\n",
       "       'usertag_10148', 'usertag_10149', 'usertag_10684', 'usertag_11092',\n",
       "       'usertag_11278', 'usertag_11379', 'usertag_11423', 'usertag_11512',\n",
       "       'usertag_11576', 'usertag_11632', 'usertag_11680', 'usertag_11724',\n",
       "       'usertag_11944', 'usertag_13042', 'usertag_13403', 'usertag_13496',\n",
       "       'usertag_13678', 'usertag_13776', 'usertag_13800', 'usertag_13866',\n",
       "       'usertag_13874', 'usertag_14273', 'usertag_15398', 'usertag_16593',\n",
       "       'usertag_16617', 'usertag_16661', 'usertag_16706', 'usertag_16751',\n",
       "       'usertag_16753'],\n",
       "      dtype='object')"
      ]
     },
     "execution_count": 42,
     "metadata": {},
     "output_type": "execute_result"
    }
   ],
   "source": [
    "total.columns"
   ]
  },
  {
   "cell_type": "code",
   "execution_count": 43,
   "metadata": {},
   "outputs": [],
   "source": [
    "# split useragent into system and browser\n",
    "total[\"system\"] = total[\"useragent\"].map(lambda x: x.split(\"_\")[0])\n",
    "total[\"browser\"] = total[\"useragent\"].map(lambda x: x.split(\"_\")[1])"
   ]
  },
  {
   "cell_type": "code",
   "execution_count": 44,
   "metadata": {},
   "outputs": [],
   "source": [
    "#delete too specific variables and irrelevant variables \n",
    "remove =['bidid', 'userid', 'IP', 'domain', 'url', 'urlid', 'slotid', 'useragent','keypage','creative','usertag']\n",
    "#remove =['bidid', 'userid', 'IP', 'domain', 'url', 'urlid', 'slotid', 'useragent','keypage','creative','usertag','city'] \n",
    "total = total.drop(remove, axis=1)"
   ]
  },
  {
   "cell_type": "code",
   "execution_count": 45,
   "metadata": {
    "scrolled": true
   },
   "outputs": [
    {
     "data": {
      "text/plain": [
       "Index(['adexchange', 'advertiser', 'bidprice', 'city', 'click', 'hour',\n",
       "       'payprice', 'region', 'slotformat', 'slotheight', 'slotprice',\n",
       "       'slotvisibility', 'slotwidth', 'weekday', 'usertag_10006',\n",
       "       'usertag_10024', 'usertag_10031', 'usertag_10048', 'usertag_10052',\n",
       "       'usertag_10057', 'usertag_10059', 'usertag_10063', 'usertag_10067',\n",
       "       'usertag_10074', 'usertag_10075', 'usertag_10076', 'usertag_10077',\n",
       "       'usertag_10079', 'usertag_10083', 'usertag_10093', 'usertag_10102',\n",
       "       'usertag_10110', 'usertag_10111', 'usertag_10114', 'usertag_10115',\n",
       "       'usertag_10116', 'usertag_10117', 'usertag_10118', 'usertag_10120',\n",
       "       'usertag_10123', 'usertag_10125', 'usertag_10126', 'usertag_10127',\n",
       "       'usertag_10129', 'usertag_10130', 'usertag_10131', 'usertag_10133',\n",
       "       'usertag_10138', 'usertag_10140', 'usertag_10142', 'usertag_10145',\n",
       "       'usertag_10146', 'usertag_10147', 'usertag_10148', 'usertag_10149',\n",
       "       'usertag_10684', 'usertag_11092', 'usertag_11278', 'usertag_11379',\n",
       "       'usertag_11423', 'usertag_11512', 'usertag_11576', 'usertag_11632',\n",
       "       'usertag_11680', 'usertag_11724', 'usertag_11944', 'usertag_13042',\n",
       "       'usertag_13403', 'usertag_13496', 'usertag_13678', 'usertag_13776',\n",
       "       'usertag_13800', 'usertag_13866', 'usertag_13874', 'usertag_14273',\n",
       "       'usertag_15398', 'usertag_16593', 'usertag_16617', 'usertag_16661',\n",
       "       'usertag_16706', 'usertag_16751', 'usertag_16753', 'system', 'browser'],\n",
       "      dtype='object')"
      ]
     },
     "execution_count": 45,
     "metadata": {},
     "output_type": "execute_result"
    }
   ],
   "source": [
    "total.columns"
   ]
  },
  {
   "cell_type": "code",
   "execution_count": 46,
   "metadata": {},
   "outputs": [],
   "source": [
    "# onehot encoding \n",
    "columns = ['weekday', 'hour', 'region', 'slotvisibility', 'slotformat', 'system','browser','advertiser','adexchange','city']\n",
    "#columns = ['weekday', 'hour', 'region', 'slotvisibility', 'slotformat', 'system','browser', 'slotwidth','slotheight', 'slotprice','advertiser','adexchange']\n",
    "#columns = ['weekday', 'hour', 'region', 'slotvisibility', 'slotformat', 'system','browser', 'slotwidth','slotheight', 'slotprice','advertiser','adexchange','city']\n",
    "def onehot_encoding(dataset,columns):\n",
    "    dataset = pd.get_dummies(dataset, columns=columns)\n",
    "    return dataset\n"
   ]
  },
  {
   "cell_type": "code",
   "execution_count": 47,
   "metadata": {
    "scrolled": true
   },
   "outputs": [],
   "source": [
    "total = onehot_encoding(total,columns)"
   ]
  },
  {
   "cell_type": "code",
   "execution_count": 48,
   "metadata": {},
   "outputs": [
    {
     "data": {
      "text/html": [
       "<div>\n",
       "<style scoped>\n",
       "    .dataframe tbody tr th:only-of-type {\n",
       "        vertical-align: middle;\n",
       "    }\n",
       "\n",
       "    .dataframe tbody tr th {\n",
       "        vertical-align: top;\n",
       "    }\n",
       "\n",
       "    .dataframe thead th {\n",
       "        text-align: right;\n",
       "    }\n",
       "</style>\n",
       "<table border=\"1\" class=\"dataframe\">\n",
       "  <thead>\n",
       "    <tr style=\"text-align: right;\">\n",
       "      <th></th>\n",
       "      <th>bidprice</th>\n",
       "      <th>click</th>\n",
       "      <th>payprice</th>\n",
       "      <th>slotheight</th>\n",
       "      <th>slotprice</th>\n",
       "      <th>slotwidth</th>\n",
       "      <th>usertag_10006</th>\n",
       "      <th>usertag_10024</th>\n",
       "      <th>usertag_10031</th>\n",
       "      <th>usertag_10048</th>\n",
       "      <th>...</th>\n",
       "      <th>city_386</th>\n",
       "      <th>city_387</th>\n",
       "      <th>city_388</th>\n",
       "      <th>city_393</th>\n",
       "      <th>city_394</th>\n",
       "      <th>city_395</th>\n",
       "      <th>city_396</th>\n",
       "      <th>city_397</th>\n",
       "      <th>city_398</th>\n",
       "      <th>city_399</th>\n",
       "    </tr>\n",
       "  </thead>\n",
       "  <tbody>\n",
       "    <tr>\n",
       "      <th>0</th>\n",
       "      <td>238.0</td>\n",
       "      <td>0.0</td>\n",
       "      <td>5.0</td>\n",
       "      <td>200</td>\n",
       "      <td>5</td>\n",
       "      <td>200</td>\n",
       "      <td>0</td>\n",
       "      <td>0</td>\n",
       "      <td>0</td>\n",
       "      <td>0</td>\n",
       "      <td>...</td>\n",
       "      <td>0</td>\n",
       "      <td>0</td>\n",
       "      <td>0</td>\n",
       "      <td>0</td>\n",
       "      <td>0</td>\n",
       "      <td>0</td>\n",
       "      <td>0</td>\n",
       "      <td>0</td>\n",
       "      <td>0</td>\n",
       "      <td>0</td>\n",
       "    </tr>\n",
       "    <tr>\n",
       "      <th>1</th>\n",
       "      <td>294.0</td>\n",
       "      <td>0.0</td>\n",
       "      <td>23.0</td>\n",
       "      <td>250</td>\n",
       "      <td>0</td>\n",
       "      <td>300</td>\n",
       "      <td>0</td>\n",
       "      <td>0</td>\n",
       "      <td>0</td>\n",
       "      <td>0</td>\n",
       "      <td>...</td>\n",
       "      <td>0</td>\n",
       "      <td>0</td>\n",
       "      <td>0</td>\n",
       "      <td>0</td>\n",
       "      <td>0</td>\n",
       "      <td>0</td>\n",
       "      <td>0</td>\n",
       "      <td>0</td>\n",
       "      <td>0</td>\n",
       "      <td>0</td>\n",
       "    </tr>\n",
       "    <tr>\n",
       "      <th>2</th>\n",
       "      <td>238.0</td>\n",
       "      <td>0.0</td>\n",
       "      <td>24.0</td>\n",
       "      <td>250</td>\n",
       "      <td>5</td>\n",
       "      <td>250</td>\n",
       "      <td>1</td>\n",
       "      <td>0</td>\n",
       "      <td>0</td>\n",
       "      <td>0</td>\n",
       "      <td>...</td>\n",
       "      <td>0</td>\n",
       "      <td>0</td>\n",
       "      <td>0</td>\n",
       "      <td>0</td>\n",
       "      <td>0</td>\n",
       "      <td>0</td>\n",
       "      <td>0</td>\n",
       "      <td>0</td>\n",
       "      <td>0</td>\n",
       "      <td>0</td>\n",
       "    </tr>\n",
       "    <tr>\n",
       "      <th>3</th>\n",
       "      <td>300.0</td>\n",
       "      <td>0.0</td>\n",
       "      <td>25.0</td>\n",
       "      <td>600</td>\n",
       "      <td>0</td>\n",
       "      <td>160</td>\n",
       "      <td>0</td>\n",
       "      <td>0</td>\n",
       "      <td>0</td>\n",
       "      <td>0</td>\n",
       "      <td>...</td>\n",
       "      <td>0</td>\n",
       "      <td>0</td>\n",
       "      <td>0</td>\n",
       "      <td>0</td>\n",
       "      <td>0</td>\n",
       "      <td>0</td>\n",
       "      <td>0</td>\n",
       "      <td>0</td>\n",
       "      <td>0</td>\n",
       "      <td>0</td>\n",
       "    </tr>\n",
       "    <tr>\n",
       "      <th>4</th>\n",
       "      <td>277.0</td>\n",
       "      <td>0.0</td>\n",
       "      <td>133.0</td>\n",
       "      <td>90</td>\n",
       "      <td>133</td>\n",
       "      <td>728</td>\n",
       "      <td>0</td>\n",
       "      <td>0</td>\n",
       "      <td>0</td>\n",
       "      <td>0</td>\n",
       "      <td>...</td>\n",
       "      <td>0</td>\n",
       "      <td>0</td>\n",
       "      <td>0</td>\n",
       "      <td>0</td>\n",
       "      <td>0</td>\n",
       "      <td>0</td>\n",
       "      <td>0</td>\n",
       "      <td>0</td>\n",
       "      <td>0</td>\n",
       "      <td>0</td>\n",
       "    </tr>\n",
       "  </tbody>\n",
       "</table>\n",
       "<p>5 rows × 553 columns</p>\n",
       "</div>"
      ],
      "text/plain": [
       "   bidprice  click  payprice  slotheight  slotprice  slotwidth  usertag_10006  \\\n",
       "0     238.0    0.0       5.0         200          5        200              0   \n",
       "1     294.0    0.0      23.0         250          0        300              0   \n",
       "2     238.0    0.0      24.0         250          5        250              1   \n",
       "3     300.0    0.0      25.0         600          0        160              0   \n",
       "4     277.0    0.0     133.0          90        133        728              0   \n",
       "\n",
       "   usertag_10024  usertag_10031  usertag_10048    ...     city_386  city_387  \\\n",
       "0              0              0              0    ...            0         0   \n",
       "1              0              0              0    ...            0         0   \n",
       "2              0              0              0    ...            0         0   \n",
       "3              0              0              0    ...            0         0   \n",
       "4              0              0              0    ...            0         0   \n",
       "\n",
       "   city_388  city_393  city_394  city_395  city_396  city_397  city_398  \\\n",
       "0         0         0         0         0         0         0         0   \n",
       "1         0         0         0         0         0         0         0   \n",
       "2         0         0         0         0         0         0         0   \n",
       "3         0         0         0         0         0         0         0   \n",
       "4         0         0         0         0         0         0         0   \n",
       "\n",
       "   city_399  \n",
       "0         0  \n",
       "1         0  \n",
       "2         0  \n",
       "3         0  \n",
       "4         0  \n",
       "\n",
       "[5 rows x 553 columns]"
      ]
     },
     "execution_count": 48,
     "metadata": {},
     "output_type": "execute_result"
    }
   ],
   "source": [
    "total.head()"
   ]
  },
  {
   "cell_type": "code",
   "execution_count": 77,
   "metadata": {},
   "outputs": [],
   "source": [
    "# transfer nonnumeric variables \n",
    "total.select_dtypes(include=['object']).columns\n",
    "\n",
    "def label_encoder(dataset, columns):\n",
    "    \n",
    "    transform_dict = {}\n",
    "    for col in columns_for_enconding:\n",
    "        cats = pd.Categorical(dataset[col]).categories\n",
    "        d = {}\n",
    "        for i, cat in enumerate(cats):\n",
    "            d[cat] = i\n",
    "        transform_dict[col] = d\n",
    "\n",
    "    # Create an inverse dictionary\n",
    "    inverse_transform_dict = {}\n",
    "    for col, d in transform_dict.items():\n",
    "        inverse_transform_dict[col] = {v: k for k, v in d.items()}\n",
    "\n",
    "    # Replace the odd values in initial dataset\n",
    "    dataset[columns_for_enconding] = dataset[columns_for_enconding].replace(transform_dict)\n",
    "\n",
    "    return dataset"
   ]
  },
  {
   "cell_type": "code",
   "execution_count": 78,
   "metadata": {},
   "outputs": [],
   "source": [
    "# numerical varibales \n",
    "columns = ['slotwidth', 'slotheight', 'slotprice']\n",
    "def min_max_scaling(dataset,columns):\n",
    "    scaler = MinMaxScaler()\n",
    "    dataset[columns] = pd.DataFrame(scaler.fit_transform(dataset[columns]))\n",
    "    return dataset"
   ]
  },
  {
   "cell_type": "code",
   "execution_count": 49,
   "metadata": {},
   "outputs": [],
   "source": [
    "# split total dataset to train and validation \n",
    "train_final = total[:len(train)]\n",
    "validation_final = total[len(train): len(train)+len(validation)]\n",
    "test_final = total[-len(test):]"
   ]
  },
  {
   "cell_type": "code",
   "execution_count": 50,
   "metadata": {},
   "outputs": [
    {
     "data": {
      "text/plain": [
       "2430981"
      ]
     },
     "execution_count": 50,
     "metadata": {},
     "output_type": "execute_result"
    }
   ],
   "source": [
    "len(train_final)"
   ]
  },
  {
   "cell_type": "code",
   "execution_count": 51,
   "metadata": {
    "scrolled": true
   },
   "outputs": [
    {
     "data": {
      "text/plain": [
       "303925"
      ]
     },
     "execution_count": 51,
     "metadata": {},
     "output_type": "execute_result"
    }
   ],
   "source": [
    "len(validation_final)"
   ]
  },
  {
   "cell_type": "code",
   "execution_count": 52,
   "metadata": {},
   "outputs": [
    {
     "data": {
      "text/plain": [
       "303375"
      ]
     },
     "execution_count": 52,
     "metadata": {},
     "output_type": "execute_result"
    }
   ],
   "source": [
    "len(test_final)"
   ]
  },
  {
   "cell_type": "code",
   "execution_count": 53,
   "metadata": {},
   "outputs": [],
   "source": [
    "# the train dataset is highly imbalance , implement the downsampling\n",
    "def downsampling(dataset):\n",
    "    class_ratio = 0.05\n",
    "    seed=500\n",
    "    train_large = dataset.loc[dataset[\"click\"] == 0]\n",
    "    train_small = dataset.loc[dataset[\"click\"] == 1]\n",
    "    large_len= math.floor(len(dataset)*(len(train_small)/len(dataset))/class_ratio-len(train_small))\n",
    "    l_downsampled = resample(train_large,\n",
    "                                         replace=False,\n",
    "                                         n_samples=large_len,\n",
    "                                         random_state=seed)\n",
    "    dataset = pd.concat([train_small, l_downsampled])\n",
    "    return dataset"
   ]
  },
  {
   "cell_type": "code",
   "execution_count": 54,
   "metadata": {},
   "outputs": [],
   "source": [
    "train_final = downsampling(train_final)"
   ]
  },
  {
   "cell_type": "code",
   "execution_count": 55,
   "metadata": {},
   "outputs": [
    {
     "data": {
      "text/html": [
       "<div>\n",
       "<style scoped>\n",
       "    .dataframe tbody tr th:only-of-type {\n",
       "        vertical-align: middle;\n",
       "    }\n",
       "\n",
       "    .dataframe tbody tr th {\n",
       "        vertical-align: top;\n",
       "    }\n",
       "\n",
       "    .dataframe thead th {\n",
       "        text-align: right;\n",
       "    }\n",
       "</style>\n",
       "<table border=\"1\" class=\"dataframe\">\n",
       "  <thead>\n",
       "    <tr style=\"text-align: right;\">\n",
       "      <th></th>\n",
       "      <th>bidprice</th>\n",
       "      <th>click</th>\n",
       "      <th>payprice</th>\n",
       "      <th>slotheight</th>\n",
       "      <th>slotprice</th>\n",
       "      <th>slotwidth</th>\n",
       "      <th>usertag_10006</th>\n",
       "      <th>usertag_10024</th>\n",
       "      <th>usertag_10031</th>\n",
       "      <th>usertag_10048</th>\n",
       "      <th>...</th>\n",
       "      <th>city_386</th>\n",
       "      <th>city_387</th>\n",
       "      <th>city_388</th>\n",
       "      <th>city_393</th>\n",
       "      <th>city_394</th>\n",
       "      <th>city_395</th>\n",
       "      <th>city_396</th>\n",
       "      <th>city_397</th>\n",
       "      <th>city_398</th>\n",
       "      <th>city_399</th>\n",
       "    </tr>\n",
       "  </thead>\n",
       "  <tbody>\n",
       "    <tr>\n",
       "      <th>1104</th>\n",
       "      <td>300.0</td>\n",
       "      <td>1.0</td>\n",
       "      <td>80.0</td>\n",
       "      <td>90</td>\n",
       "      <td>80</td>\n",
       "      <td>1000</td>\n",
       "      <td>1</td>\n",
       "      <td>0</td>\n",
       "      <td>0</td>\n",
       "      <td>0</td>\n",
       "      <td>...</td>\n",
       "      <td>0</td>\n",
       "      <td>0</td>\n",
       "      <td>0</td>\n",
       "      <td>0</td>\n",
       "      <td>0</td>\n",
       "      <td>0</td>\n",
       "      <td>0</td>\n",
       "      <td>0</td>\n",
       "      <td>0</td>\n",
       "      <td>0</td>\n",
       "    </tr>\n",
       "    <tr>\n",
       "      <th>4949</th>\n",
       "      <td>300.0</td>\n",
       "      <td>1.0</td>\n",
       "      <td>65.0</td>\n",
       "      <td>280</td>\n",
       "      <td>0</td>\n",
       "      <td>336</td>\n",
       "      <td>0</td>\n",
       "      <td>0</td>\n",
       "      <td>0</td>\n",
       "      <td>0</td>\n",
       "      <td>...</td>\n",
       "      <td>0</td>\n",
       "      <td>0</td>\n",
       "      <td>0</td>\n",
       "      <td>0</td>\n",
       "      <td>0</td>\n",
       "      <td>0</td>\n",
       "      <td>0</td>\n",
       "      <td>0</td>\n",
       "      <td>0</td>\n",
       "      <td>0</td>\n",
       "    </tr>\n",
       "    <tr>\n",
       "      <th>8878</th>\n",
       "      <td>300.0</td>\n",
       "      <td>1.0</td>\n",
       "      <td>101.0</td>\n",
       "      <td>250</td>\n",
       "      <td>0</td>\n",
       "      <td>300</td>\n",
       "      <td>0</td>\n",
       "      <td>0</td>\n",
       "      <td>0</td>\n",
       "      <td>0</td>\n",
       "      <td>...</td>\n",
       "      <td>0</td>\n",
       "      <td>0</td>\n",
       "      <td>0</td>\n",
       "      <td>0</td>\n",
       "      <td>0</td>\n",
       "      <td>0</td>\n",
       "      <td>0</td>\n",
       "      <td>0</td>\n",
       "      <td>0</td>\n",
       "      <td>0</td>\n",
       "    </tr>\n",
       "    <tr>\n",
       "      <th>9790</th>\n",
       "      <td>277.0</td>\n",
       "      <td>1.0</td>\n",
       "      <td>160.0</td>\n",
       "      <td>50</td>\n",
       "      <td>160</td>\n",
       "      <td>320</td>\n",
       "      <td>0</td>\n",
       "      <td>0</td>\n",
       "      <td>0</td>\n",
       "      <td>0</td>\n",
       "      <td>...</td>\n",
       "      <td>0</td>\n",
       "      <td>0</td>\n",
       "      <td>0</td>\n",
       "      <td>0</td>\n",
       "      <td>0</td>\n",
       "      <td>0</td>\n",
       "      <td>0</td>\n",
       "      <td>0</td>\n",
       "      <td>0</td>\n",
       "      <td>0</td>\n",
       "    </tr>\n",
       "    <tr>\n",
       "      <th>10000</th>\n",
       "      <td>300.0</td>\n",
       "      <td>1.0</td>\n",
       "      <td>108.0</td>\n",
       "      <td>250</td>\n",
       "      <td>0</td>\n",
       "      <td>300</td>\n",
       "      <td>0</td>\n",
       "      <td>0</td>\n",
       "      <td>0</td>\n",
       "      <td>0</td>\n",
       "      <td>...</td>\n",
       "      <td>0</td>\n",
       "      <td>0</td>\n",
       "      <td>0</td>\n",
       "      <td>0</td>\n",
       "      <td>0</td>\n",
       "      <td>0</td>\n",
       "      <td>0</td>\n",
       "      <td>0</td>\n",
       "      <td>0</td>\n",
       "      <td>0</td>\n",
       "    </tr>\n",
       "  </tbody>\n",
       "</table>\n",
       "<p>5 rows × 553 columns</p>\n",
       "</div>"
      ],
      "text/plain": [
       "       bidprice  click  payprice  slotheight  slotprice  slotwidth  \\\n",
       "1104      300.0    1.0      80.0          90         80       1000   \n",
       "4949      300.0    1.0      65.0         280          0        336   \n",
       "8878      300.0    1.0     101.0         250          0        300   \n",
       "9790      277.0    1.0     160.0          50        160        320   \n",
       "10000     300.0    1.0     108.0         250          0        300   \n",
       "\n",
       "       usertag_10006  usertag_10024  usertag_10031  usertag_10048    ...     \\\n",
       "1104               1              0              0              0    ...      \n",
       "4949               0              0              0              0    ...      \n",
       "8878               0              0              0              0    ...      \n",
       "9790               0              0              0              0    ...      \n",
       "10000              0              0              0              0    ...      \n",
       "\n",
       "       city_386  city_387  city_388  city_393  city_394  city_395  city_396  \\\n",
       "1104          0         0         0         0         0         0         0   \n",
       "4949          0         0         0         0         0         0         0   \n",
       "8878          0         0         0         0         0         0         0   \n",
       "9790          0         0         0         0         0         0         0   \n",
       "10000         0         0         0         0         0         0         0   \n",
       "\n",
       "       city_397  city_398  city_399  \n",
       "1104          0         0         0  \n",
       "4949          0         0         0  \n",
       "8878          0         0         0  \n",
       "9790          0         0         0  \n",
       "10000         0         0         0  \n",
       "\n",
       "[5 rows x 553 columns]"
      ]
     },
     "execution_count": 55,
     "metadata": {},
     "output_type": "execute_result"
    }
   ],
   "source": [
    "train_final.head()"
   ]
  },
  {
   "cell_type": "code",
   "execution_count": 56,
   "metadata": {
    "scrolled": true
   },
   "outputs": [
    {
     "data": {
      "text/plain": [
       "(35860, 553)"
      ]
     },
     "execution_count": 56,
     "metadata": {},
     "output_type": "execute_result"
    }
   ],
   "source": [
    "train_final.shape"
   ]
  },
  {
   "cell_type": "code",
   "execution_count": 57,
   "metadata": {},
   "outputs": [
    {
     "data": {
      "text/plain": [
       "0.0    34067\n",
       "1.0     1793\n",
       "Name: click, dtype: int64"
      ]
     },
     "execution_count": 57,
     "metadata": {},
     "output_type": "execute_result"
    }
   ],
   "source": [
    "train_final.click.value_counts()"
   ]
  },
  {
   "cell_type": "code",
   "execution_count": 58,
   "metadata": {},
   "outputs": [],
   "source": [
    "train_final.to_csv(\"new_train.csv\")\n",
    "validation_final.to_csv(\"new_validation.csv\")\n",
    "test_final.to_csv('new_test.csv')"
   ]
  },
  {
   "cell_type": "code",
   "execution_count": 4,
   "metadata": {},
   "outputs": [],
   "source": [
    "click = pd.read_csv('XG_pClick.csv')"
   ]
  },
  {
   "cell_type": "code",
   "execution_count": 8,
   "metadata": {},
   "outputs": [
    {
     "data": {
      "text/html": [
       "<div>\n",
       "<style scoped>\n",
       "    .dataframe tbody tr th:only-of-type {\n",
       "        vertical-align: middle;\n",
       "    }\n",
       "\n",
       "    .dataframe tbody tr th {\n",
       "        vertical-align: top;\n",
       "    }\n",
       "\n",
       "    .dataframe thead th {\n",
       "        text-align: right;\n",
       "    }\n",
       "</style>\n",
       "<table border=\"1\" class=\"dataframe\">\n",
       "  <thead>\n",
       "    <tr style=\"text-align: right;\">\n",
       "      <th></th>\n",
       "      <th>Unnamed: 0</th>\n",
       "      <th>bidid</th>\n",
       "      <th>pClick</th>\n",
       "    </tr>\n",
       "  </thead>\n",
       "  <tbody>\n",
       "    <tr>\n",
       "      <th>0</th>\n",
       "      <td>0</td>\n",
       "      <td>366c563de7d90feb9d4dab53e795a93fb3157387</td>\n",
       "      <td>0.0</td>\n",
       "    </tr>\n",
       "    <tr>\n",
       "      <th>1</th>\n",
       "      <td>1</td>\n",
       "      <td>29167d4caa719788b5a342dbaa25151d53121f80</td>\n",
       "      <td>0.0</td>\n",
       "    </tr>\n",
       "    <tr>\n",
       "      <th>2</th>\n",
       "      <td>2</td>\n",
       "      <td>ff8bc3f4d44a3ea60c5f3a3a8fbe7cd98fb2966e</td>\n",
       "      <td>0.0</td>\n",
       "    </tr>\n",
       "    <tr>\n",
       "      <th>3</th>\n",
       "      <td>3</td>\n",
       "      <td>844c2da00d45315f20b748ec131c26ee99a7cbc7</td>\n",
       "      <td>0.0</td>\n",
       "    </tr>\n",
       "    <tr>\n",
       "      <th>4</th>\n",
       "      <td>4</td>\n",
       "      <td>c6017f0ad0c44d7d0c9b62583ea863f28941c0ca</td>\n",
       "      <td>0.0</td>\n",
       "    </tr>\n",
       "  </tbody>\n",
       "</table>\n",
       "</div>"
      ],
      "text/plain": [
       "   Unnamed: 0                                     bidid  pClick\n",
       "0           0  366c563de7d90feb9d4dab53e795a93fb3157387     0.0\n",
       "1           1  29167d4caa719788b5a342dbaa25151d53121f80     0.0\n",
       "2           2  ff8bc3f4d44a3ea60c5f3a3a8fbe7cd98fb2966e     0.0\n",
       "3           3  844c2da00d45315f20b748ec131c26ee99a7cbc7     0.0\n",
       "4           4  c6017f0ad0c44d7d0c9b62583ea863f28941c0ca     0.0"
      ]
     },
     "execution_count": 8,
     "metadata": {},
     "output_type": "execute_result"
    }
   ],
   "source": [
    "click.head()"
   ]
  },
  {
   "cell_type": "code",
   "execution_count": 7,
   "metadata": {},
   "outputs": [
    {
     "ename": "AttributeError",
     "evalue": "'DataFrame' object has no attribute 'value_counts'",
     "output_type": "error",
     "traceback": [
      "\u001b[0;31m---------------------------------------------------------------------------\u001b[0m",
      "\u001b[0;31mAttributeError\u001b[0m                            Traceback (most recent call last)",
      "\u001b[0;32m<ipython-input-7-2d5089ef772f>\u001b[0m in \u001b[0;36m<module>\u001b[0;34m()\u001b[0m\n\u001b[0;32m----> 1\u001b[0;31m \u001b[0mclick\u001b[0m\u001b[0;34m.\u001b[0m\u001b[0mvalue_counts\u001b[0m\u001b[0;34m(\u001b[0m\u001b[0;34m)\u001b[0m\u001b[0;34m\u001b[0m\u001b[0m\n\u001b[0m",
      "\u001b[0;32m~/anaconda3/lib/python3.6/site-packages/pandas/core/generic.py\u001b[0m in \u001b[0;36m__getattr__\u001b[0;34m(self, name)\u001b[0m\n\u001b[1;32m   4370\u001b[0m             \u001b[0;32mif\u001b[0m \u001b[0mself\u001b[0m\u001b[0;34m.\u001b[0m\u001b[0m_info_axis\u001b[0m\u001b[0;34m.\u001b[0m\u001b[0m_can_hold_identifiers_and_holds_name\u001b[0m\u001b[0;34m(\u001b[0m\u001b[0mname\u001b[0m\u001b[0;34m)\u001b[0m\u001b[0;34m:\u001b[0m\u001b[0;34m\u001b[0m\u001b[0m\n\u001b[1;32m   4371\u001b[0m                 \u001b[0;32mreturn\u001b[0m \u001b[0mself\u001b[0m\u001b[0;34m[\u001b[0m\u001b[0mname\u001b[0m\u001b[0;34m]\u001b[0m\u001b[0;34m\u001b[0m\u001b[0m\n\u001b[0;32m-> 4372\u001b[0;31m             \u001b[0;32mreturn\u001b[0m \u001b[0mobject\u001b[0m\u001b[0;34m.\u001b[0m\u001b[0m__getattribute__\u001b[0m\u001b[0;34m(\u001b[0m\u001b[0mself\u001b[0m\u001b[0;34m,\u001b[0m \u001b[0mname\u001b[0m\u001b[0;34m)\u001b[0m\u001b[0;34m\u001b[0m\u001b[0m\n\u001b[0m\u001b[1;32m   4373\u001b[0m \u001b[0;34m\u001b[0m\u001b[0m\n\u001b[1;32m   4374\u001b[0m     \u001b[0;32mdef\u001b[0m \u001b[0m__setattr__\u001b[0m\u001b[0;34m(\u001b[0m\u001b[0mself\u001b[0m\u001b[0;34m,\u001b[0m \u001b[0mname\u001b[0m\u001b[0;34m,\u001b[0m \u001b[0mvalue\u001b[0m\u001b[0;34m)\u001b[0m\u001b[0;34m:\u001b[0m\u001b[0;34m\u001b[0m\u001b[0m\n",
      "\u001b[0;31mAttributeError\u001b[0m: 'DataFrame' object has no attribute 'value_counts'"
     ]
    }
   ],
   "source": [
    "click[].value_counts()"
   ]
  },
  {
   "cell_type": "code",
   "execution_count": null,
   "metadata": {},
   "outputs": [],
   "source": []
  }
 ],
 "metadata": {
  "kernelspec": {
   "display_name": "Python 3",
   "language": "python",
   "name": "python3"
  },
  "language_info": {
   "codemirror_mode": {
    "name": "ipython",
    "version": 3
   },
   "file_extension": ".py",
   "mimetype": "text/x-python",
   "name": "python",
   "nbconvert_exporter": "python",
   "pygments_lexer": "ipython3",
   "version": "3.6.5"
  }
 },
 "nbformat": 4,
 "nbformat_minor": 2
}
